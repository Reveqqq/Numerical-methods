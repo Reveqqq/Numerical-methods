{
 "cells": [
  {
   "cell_type": "code",
   "execution_count": 9,
   "metadata": {},
   "outputs": [],
   "source": [
    "import numpy as np\n",
    "\n",
    "\n",
    "def f(x):\n",
    "    \"\"\"Right-hand side of the ODE.\"\"\"\n",
    "    return (x**2 + 2*x + 2)/(x + 1)\n",
    "\n",
    "\n",
    "def solve_bvp(N, gamma1=1.38294):\n",
    "    \"\"\"\n",
    "    Solve:\n",
    "        u'' + (x+1) u' - u = (x^2 + 2x + 2)/(x+1),\n",
    "    with boundary conditions u(0)=0, u(1)=gamma1,\n",
    "    using Budeev–Timukhin (variant 4) finite differences.\n",
    "    \"\"\"\n",
    "    h = 1.0 / N\n",
    "    x = np.linspace(0, 1, N+1)  # x_0=0,...,x_N=1\n",
    "\n",
    "    # We will build an (N-1)x(N-1) system for u_1..u_{N-1}.\n",
    "    A = np.zeros((N-1, N-1))\n",
    "    F = np.zeros(N-1)\n",
    "\n",
    "    for i in range(1, N):\n",
    "        xi = x[i]\n",
    "        # r_i = (p_i / 2) * h = ((x_i+1)/2) * h\n",
    "        r_i = (xi + 1) * h / 2.0\n",
    "\n",
    "        # alpha_i = 1 + |r_i|^3 / (1 + |r_i| + r_i^2)\n",
    "        alpha_i = 1.0 + abs(r_i)**3 / (1.0 + abs(r_i) + r_i**2)\n",
    "\n",
    "        a_i = (alpha_i - r_i) / (h**2)\n",
    "        c_i = (alpha_i + r_i) / (h**2)\n",
    "        # q(x_i) = -1 => b_i = -2 alpha_i/h^2 + q_i\n",
    "        b_i = -2.0*alpha_i/(h**2) - 1.0\n",
    "\n",
    "        # Fill row (i-1) in matrix A:\n",
    "        if i-1 > 0:\n",
    "            A[i-1, i-2] = a_i  # sub-diagonal\n",
    "        A[i-1, i-1] = b_i     # main diagonal\n",
    "        if i-1 < (N-2):\n",
    "            A[i-1, i] = c_i   # super-diagonal\n",
    "\n",
    "        # Right-hand side:\n",
    "        F[i-1] = f(xi)\n",
    "\n",
    "    # Enforce boundary conditions:\n",
    "    #  - For i=1 row, subtract a_1*u0 => but u0=0 => no effect.\n",
    "    #  - For i=N-1 row, subtract c_{N-1}*uN from RHS.\n",
    "    i = N-1\n",
    "    xi = x[i]\n",
    "    r_i = (xi + 1)*h/2.0\n",
    "    alpha_i = 1.0 + abs(r_i)**3 / (1.0 + abs(r_i) + r_i**2)\n",
    "    c_i = (alpha_i + r_i)/(h**2)\n",
    "    F[N-2] -= c_i * gamma1\n",
    "\n",
    "    # Solve for u_1..u_{N-1}:\n",
    "    u_inner = np.linalg.solve(A, F)\n",
    "\n",
    "    # Construct full solution array:\n",
    "    U = np.zeros(N+1)\n",
    "    U[0] = 0.0\n",
    "    U[1:N] = u_inner\n",
    "    U[N] = gamma1\n",
    "\n",
    "    return x, U"
   ]
  },
  {
   "cell_type": "code",
   "execution_count": 10,
   "metadata": {},
   "outputs": [
    {
     "name": "stdout",
     "output_type": "stream",
     "text": [
      " i    x_i        U_approx        U_exact         error\n",
      "----------------------------------------------------------\n",
      " 0   0.00000      0.00000000      0.00000000  0.00000000e+00\n",
      " 1   0.10000      0.10433977      0.10484120  -5.01426812e-04\n",
      " 2   0.20000      0.21783167      0.21878587  -9.54200315e-04\n",
      " 3   0.30000      0.33971122      0.34107354  -1.36231968e-03\n",
      " 4   0.40000      0.46933077      0.47106113  -1.73036058e-03\n",
      " 5   0.50000      0.60613456      0.60819766  -2.06310581e-03\n",
      " 6   0.60000      0.74964051      0.75200581  -2.36529932e-03\n",
      " 7   0.70000      0.89942654      0.90206803  -2.64148191e-03\n",
      " 8   0.80000      1.05512011      1.05801600  -2.89588418e-03\n",
      " 9   0.90000      1.21639002      1.21952238  -3.13236159e-03\n",
      "10   1.00000      1.38294000      1.38629436  -3.35436112e-03\n"
     ]
    }
   ],
   "source": [
    "N = 10\n",
    "x, U_approx = solve_bvp(N)\n",
    "U_exact = (x+1)*np.log(x+1)\n",
    "error = U_approx - U_exact\n",
    "\n",
    "print(\" i    x_i        U_approx        U_exact         error\")\n",
    "print(\"----------------------------------------------------------\")\n",
    "for i in range(N+1):\n",
    "    print(\n",
    "        f\"{i:2d}  {x[i]:8.5f}  {U_approx[i]:14.8f}  {U_exact[i]:14.8f}  {error[i]:14.8e}\")\n",
    "    "
   ]
  }
 ],
 "metadata": {
  "kernelspec": {
   "display_name": "Python 3",
   "language": "python",
   "name": "python3"
  },
  "language_info": {
   "codemirror_mode": {
    "name": "ipython",
    "version": 3
   },
   "file_extension": ".py",
   "mimetype": "text/x-python",
   "name": "python",
   "nbconvert_exporter": "python",
   "pygments_lexer": "ipython3",
   "version": "3.12.2"
  }
 },
 "nbformat": 4,
 "nbformat_minor": 2
}
