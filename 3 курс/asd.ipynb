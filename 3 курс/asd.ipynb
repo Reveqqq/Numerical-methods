{
 "cells": [
  {
   "cell_type": "code",
   "execution_count": 3,
   "metadata": {},
   "outputs": [
    {
     "name": "stdout",
     "output_type": "stream",
     "text": [
      "       Значение          \n",
      "            sum  mean max\n",
      "Группа                   \n",
      "A            30  15.0  20\n",
      "B           120  40.0  50\n"
     ]
    }
   ],
   "source": [
    "import pandas as pd\n",
    "\n",
    "# Создаем простой DataFrame\n",
    "data = {\n",
    "    'Группа': ['A', 'A', 'B', 'B', 'B'],\n",
    "    'Значение': [10, 20, 30, 40, 50]\n",
    "}\n",
    "df = pd.DataFrame(data)\n",
    "\n",
    "# Группируем по столбцу 'Группа' и применяем разные агрегаты к 'Значение'\n",
    "aggregates = {\n",
    "    'Значение': ['sum', 'mean', 'max']\n",
    "}\n",
    "result = df.groupby('Группа').agg(aggregates)\n",
    "\n",
    "print(result)\n"
   ]
  },
  {
   "cell_type": "code",
   "execution_count": 4,
   "metadata": {},
   "outputs": [
    {
     "name": "stdout",
     "output_type": "stream",
     "text": [
      "       Значение1       Значение2    \n",
      "             sum  mean       max min\n",
      "Группа                              \n",
      "A             30  15.0        15   5\n",
      "B            120  40.0        45  25\n"
     ]
    }
   ],
   "source": [
    "# Создаем другой DataFrame с несколькими столбцами\n",
    "data = {\n",
    "    'Группа': ['A', 'A', 'B', 'B', 'B'],\n",
    "    'Значение1': [10, 20, 30, 40, 50],\n",
    "    'Значение2': [5, 15, 25, 35, 45]\n",
    "}\n",
    "df = pd.DataFrame(data)\n",
    "\n",
    "# Применяем разные агрегаты к разным столбцам\n",
    "aggregates = {\n",
    "    'Значение1': ['sum', 'mean'],\n",
    "    'Значение2': ['max', 'min']\n",
    "}\n",
    "result = df.groupby('Группа').agg(aggregates)\n",
    "\n",
    "print(result)\n"
   ]
  }
 ],
 "metadata": {
  "kernelspec": {
   "display_name": "Python 3",
   "language": "python",
   "name": "python3"
  },
  "language_info": {
   "codemirror_mode": {
    "name": "ipython",
    "version": 3
   },
   "file_extension": ".py",
   "mimetype": "text/x-python",
   "name": "python",
   "nbconvert_exporter": "python",
   "pygments_lexer": "ipython3",
   "version": "3.12.2"
  }
 },
 "nbformat": 4,
 "nbformat_minor": 2
}
